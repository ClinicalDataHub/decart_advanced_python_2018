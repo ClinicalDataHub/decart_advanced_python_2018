{
 "cells": [
  {
   "cell_type": "code",
   "execution_count": null,
   "metadata": {},
   "outputs": [],
   "source": [
    "%matplotlib inline"
   ]
  },
  {
   "cell_type": "markdown",
   "metadata": {},
   "source": [
    "# Vectors (Column Vectors)\n",
    "\n",
    "A vector is a column of numbers. Vectors are related to a **point** but have an essential geometric meaning.\n",
    "\n",
    "Think of the vector $v$ as an arrow pointing from the origin to the\n",
    "point $p$. Thus vectors have both magnitude and direction. Obviously the\n",
    "order of the elements of $v$ matter.\n",
    "\n",
    "Below is a figure illustrating a vector pointing from from the origin ($O$) to a point $A$.\n",
    "\n",
    "![An example vector](https://goo.gl/qCxJp3)\n",
    "\n",
    "We will always write a vector as a column vector.\n",
    "\n",
    "The vector above would be written as\n",
    "\n",
    "$\\vec{v} = \\begin{bmatrix}2\\\\3\\end{bmatrix}$"
   ]
  },
  {
   "cell_type": "markdown",
   "metadata": {},
   "source": [
    "## Elements of a Vector\n",
    "The **elements** of the vector are known as **scalars.**\n",
    "\n",
    "For our example above, the elements of the vector are $2$ and $3$.\n",
    "\n",
    "## Dimension of a Vector\n",
    "The **dimension** of a vector is the number of elements in\n",
    "the vector.\n",
    "\n",
    "If the elements of the vector come from $\\mathbb{R}$, we\n",
    "would indicate the **n-space** of the vector as\n",
    "$\\mathbb{R}^n$.\n",
    "\n",
    "For our example above, the dimension of the vector is 2.\n",
    "\n",
    "**Note:** We can only visualize two or three dimensional vectors. However, most of the vectors we will look at will have a much higher dimension so we will limit our visualizations to 2D. We can plot the projection of a higher-dimension vector on a 2D or 3D space."
   ]
  },
  {
   "cell_type": "markdown",
   "metadata": {},
   "source": [
    "## Some Example Vectors\n",
    "\n",
    "#### Example\n",
    "$v_1 = \\begin{bmatrix} 2\\\\-5\\end{bmatrix}$,\n",
    "* Elements are $2$ and $-5$\n",
    "* Dimension is 2\n",
    "\n",
    "#### Example\n",
    "$v_2=\\begin{bmatrix}7\\\\9\\end{bmatrix}$,\n",
    "* Elements are $7$ and $9$\n",
    "* Dimension is 2\n",
    "\n",
    "#### Example\n",
    "$v_3=\\begin{bmatrix}-3\\\\4\\\\5\\end{bmatrix}$.\n",
    "* Elements are -3, 4, and 5\n",
    "* Dimension is 3\n",
    "\n",
    "#### Example\n",
    "$v_4=\\begin{bmatrix}3\\\\-7\\\\-2\\end{bmatrix}$.\n",
    "* Elements are 3, -7, and -2\n",
    "* Dimension is 3\n",
    "\n",
    "### Row vectors\n",
    "\n",
    "We can also have [**row vectors**](https://en.wikipedia.org/wiki/Row_and_column_vectors). A row vector is the [**transpose**](https://en.wikipedia.org/wiki/Transpose) of a (column) vector. Similarly, a column vector is the transpose of a row vector.\n",
    "\n",
    "**transpose** of a column vector. $$v_3^T=\\begin{bmatrix}3&4&5\\end{bmatrix}$$"
   ]
  },
  {
   "cell_type": "markdown",
   "metadata": {},
   "source": [
    "## Vector Equality\n",
    "Vectors are equal when every corresponding elements of the vectors are\n",
    "equal. That is, the $i^{th}$ element in vector $a$ corresponds to the $i^{th}$ element in vector $b$ for all $i$.\n",
    "\n",
    "## What is the Standard Python Container to Represent a Vector?\n",
    "\n",
    "* List?\n",
    "* Tuple?\n",
    "* Dictionary?\n",
    "* Set?\n",
    "\n",
    "## Requirements?\n",
    "\n",
    "* Ordered"
   ]
  },
  {
   "cell_type": "markdown",
   "metadata": {},
   "source": [
    "## Vector Arithmetic\n",
    "\n",
    "### scalar multiplication\n",
    "\n",
    "\n",
    "\\begin{equation}\n",
    "\\alpha \\begin{bmatrix}x_1\\\\x_2\\\\ \\vdots\\\\x_n\\end{bmatrix} = \\begin{bmatrix}\\alpha x_1\\\\\\alpha x_2\\\\ \\vdots\\\\\\alpha x_n\\end{bmatrix}\n",
    "\\end{equation}\n",
    "\n",
    "### vector addition\n",
    "\n",
    "\n",
    "\\begin{equation}\n",
    "\\begin{bmatrix}x_1\\\\x_2\\\\ \\vdots\\\\x_n\\end{bmatrix} + \\begin{bmatrix}y_1\\\\y_2\\\\ \\vdots\\\\y_n\\end{bmatrix}= \\begin{bmatrix} x_1+x_2\\\\ x_2+y_2\\\\ \\vdots\\\\ x_n + y_n\\end{bmatrix}\n",
    "\\end{equation}"
   ]
  },
  {
   "cell_type": "markdown",
   "metadata": {},
   "source": [
    "## Exercise\n",
    "\n",
    "Using the Python container of your choice, complete the functions belows"
   ]
  },
  {
   "cell_type": "code",
   "execution_count": null,
   "metadata": {},
   "outputs": [],
   "source": [
    "def vec_eq(v1, v2):\n",
    "    \"\"\"\n",
    "    checks whether two vectors are equal\n",
    "    \n",
    "    v1: \n",
    "    v2:\n",
    "    \"\"\"\n",
    "    "
   ]
  },
  {
   "cell_type": "code",
   "execution_count": null,
   "metadata": {},
   "outputs": [],
   "source": [
    "def alpha_x_v(alpha, v):\n",
    "    \"\"\"\n",
    "    \n",
    "    \"\"\"\n"
   ]
  },
  {
   "cell_type": "code",
   "execution_count": null,
   "metadata": {},
   "outputs": [],
   "source": [
    "def alpha_x_v(alpha, v):\n",
    "    \"\"\"\n",
    "    \n",
    "    \"\"\"\n",
    "    "
   ]
  },
  {
   "cell_type": "code",
   "execution_count": null,
   "metadata": {},
   "outputs": [],
   "source": [
    "def v_plus_v(v1, v2):\n",
    "    pass"
   ]
  },
  {
   "cell_type": "markdown",
   "metadata": {},
   "source": [
    "#### Exercise: Using only `alpha_x_v` and `v_plus_v`, how would you solve the following problem?\n",
    "\n",
    "\\begin{equation}\n",
    "5 \\begin{bmatrix}3\\\\-7\\\\-2\\end{bmatrix} - \\begin{bmatrix}2\\\\12\\\\5\\end{bmatrix}\n",
    "\\end{equation}"
   ]
  },
  {
   "cell_type": "markdown",
   "metadata": {},
   "source": [
    "## Norm of a Vector\n",
    "\n",
    "The magnitude (length) of a vector is referred to as its *norm* (depicted by $|| \\mathbf{v}||$). There are a variety of norms that can be defined. We will use the $L^2$ norm that can be defined as \n",
    "\n",
    "\\begin{equation}\n",
    "L^2 = \\Large\\sqrt{\\sum_{i=1}^{n}v_i^2}\n",
    "\\end{equation}\n"
   ]
  },
  {
   "cell_type": "code",
   "execution_count": null,
   "metadata": {},
   "outputs": [],
   "source": [
    "import math\n",
    "import random\n",
    "def l2_norm(v):\n",
    "   pass\n"
   ]
  },
  {
   "cell_type": "code",
   "execution_count": null,
   "metadata": {},
   "outputs": [],
   "source": [
    "import numpy as np\n",
    "import numpy.random as ra\n",
    "v = ra.normal(100,20,50000)\n",
    "vl = v.tolist()\n",
    "vt = tuple(vl)"
   ]
  },
  {
   "cell_type": "code",
   "execution_count": null,
   "metadata": {},
   "outputs": [],
   "source": [
    "%%timeit\n",
    "l2_norm(vl)"
   ]
  },
  {
   "cell_type": "code",
   "execution_count": null,
   "metadata": {},
   "outputs": [],
   "source": [
    "%%timeit\n",
    "l2_norm(vt)"
   ]
  },
  {
   "cell_type": "code",
   "execution_count": null,
   "metadata": {},
   "outputs": [],
   "source": [
    "import math\n",
    "import random\n",
    "def l2_norm_v2(vt):\n",
    "    pass"
   ]
  },
  {
   "cell_type": "code",
   "execution_count": null,
   "metadata": {},
   "outputs": [],
   "source": [
    "%%timeit\n",
    "l2_norm_v2(vt)"
   ]
  },
  {
   "cell_type": "code",
   "execution_count": null,
   "metadata": {},
   "outputs": [],
   "source": [
    "%%timeit\n",
    "l2_norm_v2(vl)"
   ]
  },
  {
   "cell_type": "markdown",
   "metadata": {},
   "source": [
    "#### Not the results I'm expecting"
   ]
  },
  {
   "cell_type": "code",
   "execution_count": null,
   "metadata": {},
   "outputs": [],
   "source": [
    "%%timeit\n",
    "np.sqrt(np.sum(v*v))"
   ]
  },
  {
   "cell_type": "code",
   "execution_count": null,
   "metadata": {},
   "outputs": [],
   "source": [
    "import numpy.linalg as la"
   ]
  },
  {
   "cell_type": "code",
   "execution_count": null,
   "metadata": {},
   "outputs": [],
   "source": [
    "%%timeit\n",
    "la.norm(v)"
   ]
  },
  {
   "cell_type": "markdown",
   "metadata": {},
   "source": [
    "## Inner Product\n",
    "\n",
    "\\begin{equation}\n",
    "<\\mathbf{x},\\mathbf{y}> = \\mathbf{x}\\cdot\\mathbf{y}= \\mathbf{x}^T\\mathbf{y} = \\large \\sum_{i=1}^n x_i y_i\n",
    "\\end{equation}"
   ]
  },
  {
   "cell_type": "code",
   "execution_count": null,
   "metadata": {},
   "outputs": [],
   "source": [
    "a = [1,2,3,4]\n",
    "b = a\n",
    "c = a[:]"
   ]
  },
  {
   "cell_type": "code",
   "execution_count": null,
   "metadata": {},
   "outputs": [],
   "source": [
    "a == b"
   ]
  },
  {
   "cell_type": "code",
   "execution_count": null,
   "metadata": {},
   "outputs": [],
   "source": [
    "a==c"
   ]
  },
  {
   "cell_type": "code",
   "execution_count": null,
   "metadata": {},
   "outputs": [],
   "source": [
    "b[0]=-1"
   ]
  },
  {
   "cell_type": "code",
   "execution_count": null,
   "metadata": {},
   "outputs": [],
   "source": [
    "b==c"
   ]
  },
  {
   "cell_type": "code",
   "execution_count": null,
   "metadata": {},
   "outputs": [],
   "source": [
    "a==b"
   ]
  },
  {
   "cell_type": "code",
   "execution_count": null,
   "metadata": {},
   "outputs": [],
   "source": [
    "def inner(v1,v2):\n",
    "    pass\n"
   ]
  },
  {
   "cell_type": "markdown",
   "metadata": {},
   "source": [
    "## Evaluating function performance with [`%timeit`](http://ipython.readthedocs.io/en/stable/interactive/magics.html#magic-timeit)\n",
    "\n",
    "\n",
    "When writing our code we will have to make various design decisions. We need ways of evaluating the quality of our choices. There are a variety of metrics that might be considered, such as\n",
    "\n",
    "* How easy is my code to understand?\n",
    "* Does my choice require third-party dependencies (i.e., something not distributed with Python)? Can it run on any common operating system?\n",
    "* Can I write the code in a reasonable amount of time?\n",
    "* Is the code fast enough to be reasonable?\n",
    "\n",
    "These are all, admittedly, relative questions. If I'm planning on sharing the code with others then maybe I want to follow Python style conventions. If the code is just for me, then perhaps it is fine to write in my own quirky Python style. If our code is only going to be used once, then maybe what we want to do is spend less time trying to optimize it for speed and just patiently wait for it to run.\n",
    "\n",
    "There are tools that help us evaluate the style of our code as well as to evaluate the performance of our code. Here we will introduce you to the IPython \"magic\" `%timeit`\n",
    "\n",
    "```\n",
    "Options: -n<N>: execute the given statement <N> times in a loop. If this value is not given, a fitting value is chosen.\n",
    "\n",
    "-r<R>: repeat the loop iteration <R> times and take the best result. Default: 3\n",
    "\n",
    "-t: use time.time to measure the time, which is the default on Unix. This function measures wall time.\n",
    "\n",
    "-c: use time.clock to measure the time, which is the default on Windows and measures wall time. On Unix, resource.getrusage is used instead and returns the CPU user time.\n",
    "\n",
    "-p<P>: use a precision of <P> digits to display the timing result. Default: 3\n",
    "\n",
    "-q: Quiet, do not print result.\n",
    "\n",
    "-o: return a TimeitResult that can be stored in a variable to inspect\n",
    "```\n",
    "\n",
    "Within a notebook, we can apply `%timeit` to an entire cell"
   ]
  },
  {
   "cell_type": "code",
   "execution_count": null,
   "metadata": {},
   "outputs": [],
   "source": [
    "import time"
   ]
  },
  {
   "cell_type": "code",
   "execution_count": null,
   "metadata": {},
   "outputs": [],
   "source": [
    "%%timeit\n",
    "time.sleep(0.01)\n",
    "inner(vl,vl)"
   ]
  },
  {
   "cell_type": "code",
   "execution_count": null,
   "metadata": {},
   "outputs": [],
   "source": [
    "%%timeit\n",
    "#time.sleep(0.01)\n",
    "inner(vl,vl)"
   ]
  },
  {
   "cell_type": "markdown",
   "metadata": {},
   "source": [
    "or a single line"
   ]
  },
  {
   "cell_type": "code",
   "execution_count": null,
   "metadata": {},
   "outputs": [],
   "source": [
    "%timeit inner(vl,vl)"
   ]
  },
  {
   "cell_type": "markdown",
   "metadata": {},
   "source": [
    "We can save the results into a `TimeItResult` object."
   ]
  },
  {
   "cell_type": "code",
   "execution_count": null,
   "metadata": {},
   "outputs": [],
   "source": [
    "time_inner_list = %timeit -o -r 10 inner(vl,vl)"
   ]
  },
  {
   "cell_type": "code",
   "execution_count": null,
   "metadata": {},
   "outputs": [],
   "source": [
    "time_inner_list.average\n"
   ]
  },
  {
   "cell_type": "code",
   "execution_count": null,
   "metadata": {},
   "outputs": [],
   "source": [
    "%%timeit\n",
    "inner_v2(vl,vl)"
   ]
  },
  {
   "cell_type": "markdown",
   "metadata": {},
   "source": [
    "## Using [numpy](http://www.numpy.org/)\n",
    "\n",
    "The core Python language was not written with linear algebra or scientific computing in mind. The programs we are writing run very slow; we are only writing them to illustrate programming ideas. In reality, if we were writing code that relied on linear algebra we would use `numpy` which is a third-party package available for Python that provides high performance manipulation of vectors and matrices (and n-dimensional arrays in general).\n",
    "\n",
    "For comparison, here is the performance of computing the inner product with numpy"
   ]
  },
  {
   "cell_type": "code",
   "execution_count": null,
   "metadata": {},
   "outputs": [],
   "source": [
    "time_inner_np = %timeit -o -r 10 np.inner(v,v)"
   ]
  },
  {
   "cell_type": "code",
   "execution_count": null,
   "metadata": {},
   "outputs": [],
   "source": [
    "%timeit -o -r 10 np.inner(v,v)"
   ]
  },
  {
   "cell_type": "code",
   "execution_count": null,
   "metadata": {},
   "outputs": [],
   "source": [
    "%%timeit\n",
    "np.inner(v,v)"
   ]
  }
 ],
 "metadata": {
  "kernelspec": {
   "display_name": "Python 3",
   "language": "python",
   "name": "python3"
  },
  "language_info": {
   "codemirror_mode": {
    "name": "ipython",
    "version": 3
   },
   "file_extension": ".py",
   "mimetype": "text/x-python",
   "name": "python",
   "nbconvert_exporter": "python",
   "pygments_lexer": "ipython3",
   "version": "3.6.5"
  }
 },
 "nbformat": 4,
 "nbformat_minor": 2
}
