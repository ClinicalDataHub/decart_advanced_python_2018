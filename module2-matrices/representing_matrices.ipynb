{
 "cells": [
  {
   "cell_type": "code",
   "execution_count": null,
   "metadata": {},
   "outputs": [],
   "source": [
    "%matplotlib inline"
   ]
  },
  {
   "cell_type": "code",
   "execution_count": null,
   "metadata": {},
   "outputs": [],
   "source": [
    "from myla.disp import draw_vectors"
   ]
  },
  {
   "cell_type": "markdown",
   "metadata": {},
   "source": [
    "# Matrices"
   ]
  },
  {
   "cell_type": "markdown",
   "metadata": {},
   "source": [
    "## Linear Equations\n",
    "\n",
    "Consider the equation of a line in the plane $(x_1,x_2)$.\n",
    "\n",
    "\\begin{eqnarray}\n",
    "\\begin{array}{rcrcr@{\\qquad}l}\n",
    "2x_1 & + & 4x_2 = & 2\n",
    "\\end{array}\n",
    "\\end{eqnarray}\n",
    "\n",
    "If we plot $x_2$ vs $x_1$, we get the following plot:"
   ]
  },
  {
   "cell_type": "code",
   "execution_count": null,
   "metadata": {},
   "outputs": [],
   "source": [
    "plot_lines(2*x1+4*x2-2, solvefor=x2)"
   ]
  },
  {
   "cell_type": "markdown",
   "metadata": {},
   "source": [
    "If we now add a second, we have a **system of linear equations**\n",
    "\n",
    "\\begin{eqnarray}\n",
    "\\begin{array}{rcrcrc@{\\qquad}l}\n",
    "2x_1 & + & 4x_2 = & 2 & (a)\\\\\n",
    "4x_1 & + & 11x_2 = & 1 & (b)\n",
    "\\end{array}\n",
    "\\end{eqnarray}\n",
    "\n",
    "Since we have two equations ($a$ and $b$) and two unknowns we can solve this system for $x_1$ and $x_2$:\n",
    "\n",
    "* multiplying  $a$ by $-2$ and adding it to $b$ yields $x_2=-1$. Substituting this back into $a$ yields $x_1=3$.\n",
    "\n",
    "If we plot these two equations, the solution (if it exists) is where the two lines intersect."
   ]
  },
  {
   "cell_type": "code",
   "execution_count": null,
   "metadata": {},
   "outputs": [],
   "source": [
    "plot_lines(2*x1+4*x2-2, 4*x1+11*x2-1,solvefor=x2)"
   ]
  },
  {
   "cell_type": "markdown",
   "metadata": {},
   "source": [
    "If we change the equation slightly to\n",
    "\n",
    "\\begin{eqnarray}\n",
    "\\begin{array}{rcrcrc@{\\qquad}l}\n",
    "2x_1 & + & 4x_2 = & 2 & (a)\\\\\n",
    "4x_1 & + & 8x_2 = & 1 & (b)\n",
    "\\end{array}\n",
    "\\end{eqnarray}\n",
    "\n",
    "We get two parallel lines and no solution to the system."
   ]
  },
  {
   "cell_type": "code",
   "execution_count": null,
   "metadata": {},
   "outputs": [],
   "source": [
    "plot_lines(2*x+4*y-2, 4*x+8*y-1, solvefor=y)"
   ]
  },
  {
   "cell_type": "markdown",
   "metadata": {},
   "source": [
    "This can be rewritten in matrix notation as $\\textbf{A}x=b$\n",
    "\n",
    "\n",
    "\\begin{equation}\n",
    "\\begin{bmatrix}\n",
    "\\begin{array}{rr{\\qquad}1}\n",
    "2 & 4 \\\\\n",
    "4 & 11 \n",
    "\\end{array}\n",
    "\\end{bmatrix}\n",
    "\\begin{bmatrix}\n",
    "\\begin{array}{r{\\quad}1}\n",
    "x_1\\\\ x_2\n",
    "\\end{array}\n",
    "\\end{bmatrix} =\n",
    "\\begin{bmatrix}\n",
    "\\begin{array}{r{\\quad}1}\n",
    "2 \\\\ 1\n",
    "\\end{array}\n",
    "\\end{bmatrix}\n",
    "\\end{equation}\n",
    "\n",
    "We can see that the rows of the matrix correspond to the coefficients in the equations (row view)."
   ]
  },
  {
   "cell_type": "markdown",
   "metadata": {},
   "source": [
    "## Row View of Matrices\n",
    "\n",
    "## Transpose of Matrices and Vectors\n",
    "\n",
    "In transposing a vector $v$ (depicted as $v^T$), we rewrite it as a row:\n",
    "\n",
    "\\begin{equation}\n",
    "\\begin{bmatrix}\n",
    "3\\\\-7\\\\-2\\end{bmatrix}^T = \\begin{bmatrix}\\begin{array}{lll@{\\qquad}l}3 &-7 &-2\\end{array}\\end{bmatrix}\n",
    "\\end{equation}\n",
    "\n",
    "The transpose of a matrix is achieved by rewriting the matrix with the rows as columns. For example\n",
    "\n",
    "\\begin{eqnarray}\n",
    "A=\n",
    "\\begin{bmatrix}\n",
    "\\begin{array}{rr{\\qquad}1}\n",
    "3 & 7 \\\\\n",
    "-1 & 5 \n",
    "\\end{array}\n",
    "\\end{bmatrix}\\\\\n",
    "A^T=\n",
    "\\begin{bmatrix}\n",
    "\\begin{array}{rr{\\qquad}1}\n",
    "3 & -1 \\\\\n",
    "7 & 5 \n",
    "\\end{array}\n",
    "\\end{bmatrix}\n",
    "\\end{eqnarray}\n",
    "\n",
    "\\begin{eqnarray}\n",
    "B=\n",
    "\\begin{bmatrix}\n",
    "\\begin{array}{rr{\\qquad}1}\n",
    "1 & 3,&-2 \\\\\n",
    "1 & -4 & -3 \n",
    "\\end{array}\n",
    "\\end{bmatrix}\\\\\n",
    "B^T=\n",
    "\\begin{bmatrix}\n",
    "\\begin{array}{rr{\\qquad}1}\n",
    "1 & 1 \\\\\n",
    "3 & -4\\\\\n",
    "-2 & -3\n",
    "\\end{array}\n",
    "\\end{bmatrix}\n",
    "\\end{eqnarray}"
   ]
  },
  {
   "cell_type": "markdown",
   "metadata": {},
   "source": [
    "## Example: Compute Transpose\n"
   ]
  },
  {
   "cell_type": "code",
   "execution_count": null,
   "metadata": {},
   "outputs": [],
   "source": [
    "def transpose(a):\n",
    "    pass\n",
    "            \n",
    "        "
   ]
  },
  {
   "cell_type": "code",
   "execution_count": null,
   "metadata": {},
   "outputs": [],
   "source": [
    "transpose(((1,3,-2),(1,-4,-3)))"
   ]
  },
  {
   "cell_type": "markdown",
   "metadata": {},
   "source": [
    "Returning to our original system of linear equations \n",
    "\n",
    "\\begin{eqnarray}\n",
    "\\begin{array}{rcrcrc@{\\qquad}l}\n",
    "2x_1 & + & 4x_2 = & 2 & (a)\\\\\n",
    "4x_1 & + & 8x_2 = & 1 & (b)\n",
    "\\end{array}\n",
    "\\end{eqnarray}\n",
    "\n",
    "Which we can write in matrix form as\n",
    "\n",
    "\\begin{equation}\n",
    "\\begin{bmatrix}\n",
    "\\begin{array}{rr{\\qquad}1}\n",
    "2 & 4 \\\\\n",
    "4 & 11 \n",
    "\\end{array}\n",
    "\\end{bmatrix}\n",
    "\\begin{bmatrix}\n",
    "\\begin{array}{r{\\quad}1}\n",
    "x_1\\\\ x_2\n",
    "\\end{array}\n",
    "\\end{bmatrix} =\n",
    "\\begin{bmatrix}\n",
    "\\begin{array}{r{\\quad}1}\n",
    "2 \\\\ 1\n",
    "\\end{array}\n",
    "\\end{bmatrix}\n",
    "\\end{equation}\n",
    "\n",
    "We can see that each row in the matrix are the coefficients of each of our linear equations. Thinking of every vector as a column of numbers, a matrix can be viewed as a list of transposed vectors $(\\pmb{r_1,r_2})$.\n",
    "\n",
    "\\begin{equation}\n",
    "\\begin{bmatrix}\n",
    "\\begin{array}{rr{\\qquad}1}\n",
    "\\pmb{r_1^T} \\\\\n",
    "\\pmb{r_2^T }\n",
    "\\end{array}\n",
    "\\end{bmatrix}\n",
    "\\begin{bmatrix}\n",
    "\\begin{array}{r{\\quad}1}\n",
    "x_1\\\\ x_2\n",
    "\\end{array}\n",
    "\\end{bmatrix} =\n",
    "\\begin{bmatrix}\n",
    "\\begin{array}{r{\\quad}1}\n",
    "2 \\\\ 1\n",
    "\\end{array}\n",
    "\\end{bmatrix}\n",
    "\\end{equation}\n",
    "\n",
    "\n",
    "\\begin{equation}\n",
    "\\begin{bmatrix}\n",
    "\\begin{array}{rr{\\qquad}1}\n",
    "\\pmb{r_1^T} \\\\\n",
    "\\pmb{r_2^T} \n",
    "\\end{array}\n",
    "\\end{bmatrix}\n",
    "\\pmb{x} =\n",
    "\\pmb{b}\n",
    "\\end{equation}"
   ]
  },
  {
   "cell_type": "markdown",
   "metadata": {},
   "source": [
    "## Matrix-Vector Multiplication\n",
    "\n",
    "Matrix as linear operator\n",
    "\n",
    "The multiplication of a vector ($\\pmb{v}$) by a matrix ($\\pmb{A}$) results in a new vector ($\\pmb{b}$). The way we compute $\\pmb{b}$ is by taking the the dot product with each row in $\\pmb{A}$ with $\\pmb{x}$.\n",
    "\n",
    "\\begin{equation}\n",
    "\\begin{bmatrix}\n",
    "\\begin{array}{rr{\\qquad}1}\n",
    "\\pmb{r_1^T} \\\\\n",
    "\\pmb{r_2^T} \n",
    "\\end{array}\n",
    "\\end{bmatrix}\n",
    "\\pmb{x} =\n",
    "\\begin{bmatrix}\n",
    "\\begin{array}{rr{\\qquad}1}\n",
    "\\pmb{r_1^T\\cdot x} \\\\\n",
    "\\pmb{r_2^T \\cdot x} \n",
    "\\end{array}\n",
    "\\end{bmatrix}\n",
    "\\end{equation}.\n",
    "\n"
   ]
  },
  {
   "cell_type": "markdown",
   "metadata": {},
   "source": [
    "### Problem: \n",
    "#### Write a function that computes the multiplication between a matrix `A` and a vector `v` assuming `A` is a represented a list of transposed vectors."
   ]
  },
  {
   "cell_type": "code",
   "execution_count": 1,
   "metadata": {},
   "outputs": [],
   "source": [
    "def a_x_v(A,v):\n",
    "    pass\n",
    "\n",
    "def a_x_v2(A,v):\n",
    "    pass"
   ]
  },
  {
   "cell_type": "code",
   "execution_count": null,
   "metadata": {},
   "outputs": [],
   "source": [
    "A = [[2,4],[4,11]]\n",
    "v = [3,-1]"
   ]
  },
  {
   "cell_type": "code",
   "execution_count": null,
   "metadata": {},
   "outputs": [],
   "source": [
    "a_x_v2(A,v)"
   ]
  },
  {
   "cell_type": "markdown",
   "metadata": {},
   "source": [
    "## Example: Rotation in the 2D Plane\n",
    "\n",
    "A rotation around the origin in the 2D plane by an angle $\\phi$ can be described by the matrix\n",
    "\n",
    "\\begin{equation}\n",
    "\\pmb{R}_{\\phi} = \n",
    "\\begin{bmatrix}\n",
    "\\begin{array}{rr{\\qquad}1}\n",
    "\\cos \\phi & -\\sin \\phi \\\\\n",
    "\\sin \\phi & \\cos \\phi \n",
    "\\end{array}\n",
    "\\end{bmatrix}\n",
    "\\end{equation}\n",
    "\n",
    "Write a program that takes as an argument a vector `v` and an angle `phi` and returns the angle `v` rotated by the angle `phi`.\n",
    "\n",
    "* How is `phi` expressed? In Python how are `cos` and `sin` computed?\n",
    "* Should we break the problems into parts, each part solved by a function?"
   ]
  },
  {
   "cell_type": "code",
   "execution_count": null,
   "metadata": {},
   "outputs": [],
   "source": [
    "def get_rot(_phi, units=\"degrees\"):\n",
    "    pass\n",
    "def rotate_vec(v,phi):\n",
    "    pass"
   ]
  },
  {
   "cell_type": "markdown",
   "metadata": {},
   "source": [
    "### Exercise\n",
    "\n",
    "Modify the code below to use the `draw_vectors` routine defined in `myla`"
   ]
  },
  {
   "cell_type": "code",
   "execution_count": null,
   "metadata": {},
   "outputs": [],
   "source": [
    "plot_vectors(((0,0),(1,1),'r'), ((0,0),rotate_vec((1,1),90),'g'))"
   ]
  },
  {
   "cell_type": "markdown",
   "metadata": {},
   "source": [
    "## Matrix-Matrix Multiplication\n",
    "\n",
    "![matrix mutliplication](http://bit.ly/2JwWeK4)"
   ]
  },
  {
   "cell_type": "code",
   "execution_count": null,
   "metadata": {},
   "outputs": [],
   "source": [
    "def m_x_m(A,B):\n",
    "    pass"
   ]
  },
  {
   "cell_type": "code",
   "execution_count": null,
   "metadata": {},
   "outputs": [],
   "source": [
    "def m_x_m_2debug(A,B):\n",
    "    pass"
   ]
  },
  {
   "cell_type": "code",
   "execution_count": null,
   "metadata": {},
   "outputs": [],
   "source": [
    "m_x_m(A,A)"
   ]
  },
  {
   "cell_type": "markdown",
   "metadata": {},
   "source": [
    "\\begin{equation}\n",
    "\\begin{bmatrix}\n",
    "\\begin{array}{rr{\\qquad}1}\n",
    "2 & 4 \\\\\n",
    "4 & 11 \n",
    "\\end{array}\n",
    "\\end{bmatrix}\n",
    "\\begin{bmatrix}\n",
    "\\begin{array}{r{\\quad}1}\n",
    "x_1\\\\ x_2\n",
    "\\end{array}\n",
    "\\end{bmatrix} =\n",
    "\\begin{bmatrix}\n",
    "\\begin{array}{r{\\quad}1}\n",
    "2 \\\\ 1\n",
    "\\end{array}\n",
    "\\end{bmatrix}\n",
    "\\end{equation}"
   ]
  },
  {
   "cell_type": "code",
   "execution_count": null,
   "metadata": {},
   "outputs": [],
   "source": [
    "R1 = get_rot(45)\n",
    "R2 = get_rot(-45)\n",
    "R = m_x_m(R2,R1)\n",
    "R"
   ]
  },
  {
   "cell_type": "code",
   "execution_count": null,
   "metadata": {},
   "outputs": [],
   "source": []
  }
 ],
 "metadata": {
  "kernelspec": {
   "display_name": "Python 3",
   "language": "python",
   "name": "python3"
  },
  "language_info": {
   "codemirror_mode": {
    "name": "ipython",
    "version": 3
   },
   "file_extension": ".py",
   "mimetype": "text/x-python",
   "name": "python",
   "nbconvert_exporter": "python",
   "pygments_lexer": "ipython3",
   "version": "3.6.5"
  }
 },
 "nbformat": 4,
 "nbformat_minor": 2
}
